{
 "cells": [
  {
   "cell_type": "markdown",
   "metadata": {},
   "source": [
    "# AILib Tutorial 1: Setup and Installation\n",
    "\n",
    "Welcome to AILib! This tutorial will guide you through setting up AILib and getting started with AI agent development.\n",
    "\n",
    "## What is AILib?\n",
    "\n",
    "AILib is a Python library for building AI agent workflows with LLMs (Large Language Models). It provides:\n",
    "\n",
    "- **Simple LLM interfaces** for multiple providers (OpenAI, Anthropic, etc.)\n",
    "- **Prompt templates** for reusable, dynamic prompts\n",
    "- **Chains** for sequential operations\n",
    "- **Tools** for extending agent capabilities\n",
    "- **Agents** for autonomous problem-solving\n",
    "- **Session management** for stateful conversations\n",
    "\n",
    "Let's get started!"
   ]
  },
  {
   "cell_type": "markdown",
   "metadata": {},
   "source": [
    "## Installation\n",
    "\n",
    "First, install AILib and its dependencies:"
   ]
  },
  {
   "cell_type": "code",
   "execution_count": null,
   "metadata": {},
   "outputs": [],
   "source": [
    "# Install from the local package (if you're developing)\n",
    "# Navigate to the ailib directory first\n",
    "!pip install -e /Users/kapui/Documents/Coding/ailib\n",
    "\n",
    "# Or install specific requirements\n",
    "# !pip install openai anthropic python-dotenv"
   ]
  },
  {
   "cell_type": "markdown",
   "metadata": {},
   "source": [
    "## Setting Up API Keys\n",
    "\n",
    "AILib works with various LLM providers. You'll need API keys for the providers you want to use.\n",
    "\n",
    "### Option 1: Environment Variables (Recommended)\n",
    "\n",
    "Create a `.env` file in your project root:"
   ]
  },
  {
   "cell_type": "code",
   "execution_count": null,
   "metadata": {},
   "outputs": [],
   "source": [
    "# Example .env file contents (don't run this cell, just for reference)\n",
    "\"\"\"\n",
    "OPENAI_API_KEY=your-openai-api-key-here\n",
    "ANTHROPIC_API_KEY=your-anthropic-api-key-here\n",
    "\"\"\""
   ]
  },
  {
   "cell_type": "markdown",
   "metadata": {},
   "source": [
    "### Option 2: Set in Code (For Testing Only)"
   ]
  },
  {
   "cell_type": "code",
   "execution_count": null,
   "metadata": {},
   "outputs": [],
   "source": [
    "import os\n",
    "from dotenv import load_dotenv\n",
    "\n",
    "# Load environment variables from .env file\n",
    "load_dotenv()\n",
    "\n",
    "# Or set directly (not recommended for production)\n",
    "# os.environ[\"OPENAI_API_KEY\"] = \"your-api-key-here\""
   ]
  },
  {
   "cell_type": "markdown",
   "metadata": {},
   "source": [
    "## Verify Installation\n",
    "\n",
    "Let's verify that AILib is installed correctly:"
   ]
  },
  {
   "cell_type": "code",
   "execution_count": null,
   "metadata": {},
   "outputs": [],
   "source": [
    "# Import core AILib modules\n",
    "import ailib\n",
    "from ailib import OpenAIClient, AnthropicClient\n",
    "from ailib.prompts import PromptTemplate\n",
    "from ailib.chains import Chain\n",
    "from ailib.agents import Agent, ToolRegistry\n",
    "\n",
    "print(f\"AILib version: {ailib.__version__}\")\n",
    "print(\"✓ AILib imported successfully!\")"
   ]
  },
  {
   "cell_type": "markdown",
   "metadata": {},
   "source": [
    "## Your First LLM Call\n",
    "\n",
    "Let's make your first call to an LLM using AILib:"
   ]
  },
  {
   "cell_type": "code",
   "execution_count": null,
   "metadata": {},
   "outputs": [],
   "source": [
    "# Create an OpenAI client\n",
    "client = OpenAIClient()\n",
    "\n",
    "# Make a simple completion\n",
    "response = client.complete(\"Hello, AILib! Tell me a fun fact about Python.\")\n",
    "print(response)"
   ]
  },
  {
   "cell_type": "markdown",
   "metadata": {},
   "source": [
    "## Available LLM Providers\n",
    "\n",
    "AILib supports multiple LLM providers. Here's how to use each:"
   ]
  },
  {
   "cell_type": "code",
   "execution_count": null,
   "metadata": {},
   "outputs": [],
   "source": [
    "# OpenAI (GPT models)\n",
    "openai_client = OpenAIClient(\n",
    "    model=\"gpt-4\",  # or \"gpt-3.5-turbo\"\n",
    "    temperature=0.7\n",
    ")\n",
    "\n",
    "# Anthropic (Claude models)\n",
    "# anthropic_client = AnthropicClient(\n",
    "#     model=\"claude-3-opus-20240229\",\n",
    "#     temperature=0.7\n",
    "# )\n",
    "\n",
    "print(\"Available clients created!\")"
   ]
  },
  {
   "cell_type": "markdown",
   "metadata": {},
   "source": [
    "## Project Structure\n",
    "\n",
    "Here's how a typical AILib project might be structured:\n",
    "\n",
    "```\n",
    "my_ai_project/\n",
    "├── .env                    # API keys and configuration\n",
    "├── main.py                 # Your main application\n",
    "├── agents/                 # Custom agents\n",
    "│   ├── __init__.py\n",
    "│   └── my_agent.py\n",
    "├── tools/                  # Custom tools\n",
    "│   ├── __init__.py\n",
    "│   └── my_tools.py\n",
    "├── prompts/                # Prompt templates\n",
    "│   └── templates.py\n",
    "└── requirements.txt        # Project dependencies\n",
    "```"
   ]
  },
  {
   "cell_type": "markdown",
   "metadata": {},
   "source": [
    "## Configuration Options\n",
    "\n",
    "AILib clients can be configured with various options:"
   ]
  },
  {
   "cell_type": "code",
   "execution_count": null,
   "metadata": {},
   "outputs": [],
   "source": [
    "# Detailed configuration example\n",
    "client = OpenAIClient(\n",
    "    model=\"gpt-4\",\n",
    "    temperature=0.7,        # Creativity (0.0 = deterministic, 1.0 = creative)\n",
    "    max_tokens=500,         # Maximum response length\n",
    "    top_p=0.9,             # Nucleus sampling\n",
    "    frequency_penalty=0.0,  # Reduce repetition\n",
    "    presence_penalty=0.0,   # Encourage new topics\n",
    "    api_key=None,          # Uses env var by default\n",
    "    timeout=30.0           # Request timeout in seconds\n",
    ")\n",
    "\n",
    "print(\"Client configured with custom settings!\")"
   ]
  },
  {
   "cell_type": "markdown",
   "metadata": {},
   "source": [
    "## Testing Your Setup\n",
    "\n",
    "Let's run a comprehensive test to ensure everything is working:"
   ]
  },
  {
   "cell_type": "code",
   "execution_count": null,
   "metadata": {},
   "outputs": [],
   "source": [
    "def test_ailib_setup():\n",
    "    \"\"\"Test AILib installation and configuration.\"\"\"\n",
    "    tests_passed = 0\n",
    "    total_tests = 4\n",
    "    \n",
    "    # Test 1: Import modules\n",
    "    try:\n",
    "        import ailib\n",
    "        from ailib import OpenAIClient\n",
    "        print(\"✓ Test 1: Module imports successful\")\n",
    "        tests_passed += 1\n",
    "    except ImportError as e:\n",
    "        print(f\"✗ Test 1: Import failed - {e}\")\n",
    "    \n",
    "    # Test 2: Create client\n",
    "    try:\n",
    "        client = OpenAIClient()\n",
    "        print(\"✓ Test 2: Client creation successful\")\n",
    "        tests_passed += 1\n",
    "    except Exception as e:\n",
    "        print(f\"✗ Test 2: Client creation failed - {e}\")\n",
    "        return\n",
    "    \n",
    "    # Test 3: API key check\n",
    "    if os.getenv(\"OPENAI_API_KEY\"):\n",
    "        print(\"✓ Test 3: API key found\")\n",
    "        tests_passed += 1\n",
    "    else:\n",
    "        print(\"✗ Test 3: No API key found\")\n",
    "    \n",
    "    # Test 4: Make API call\n",
    "    try:\n",
    "        response = client.complete(\"Say 'Hello, AILib!'\")\n",
    "        if response:\n",
    "            print(\"✓ Test 4: API call successful\")\n",
    "            print(f\"   Response: {response[:50]}...\")\n",
    "            tests_passed += 1\n",
    "    except Exception as e:\n",
    "        print(f\"✗ Test 4: API call failed - {e}\")\n",
    "    \n",
    "    print(f\"\\nTests passed: {tests_passed}/{total_tests}\")\n",
    "    return tests_passed == total_tests\n",
    "\n",
    "# Run the test\n",
    "if test_ailib_setup():\n",
    "    print(\"\\n🎉 AILib is set up correctly! You're ready to build AI agents.\")\n",
    "else:\n",
    "    print(\"\\n⚠️  Some tests failed. Please check your setup.\")"
   ]
  },
  {
   "cell_type": "markdown",
   "metadata": {},
   "source": [
    "## Common Setup Issues\n",
    "\n",
    "### 1. Import Errors\n",
    "- **Solution**: Make sure AILib is installed: `pip install -e /path/to/ailib`\n",
    "\n",
    "### 2. API Key Errors\n",
    "- **Solution**: Check that your `.env` file exists and contains valid API keys\n",
    "- **Solution**: Ensure the `.env` file is in the correct directory\n",
    "\n",
    "### 3. Connection Errors\n",
    "- **Solution**: Check your internet connection\n",
    "- **Solution**: Verify API keys are valid and have credits\n",
    "\n",
    "### 4. Module Not Found\n",
    "- **Solution**: Install missing dependencies: `pip install openai anthropic python-dotenv`"
   ]
  },
  {
   "cell_type": "markdown",
   "metadata": {},
   "source": [
    "## Next Steps\n",
    "\n",
    "Congratulations! You've successfully set up AILib. Here's what to explore next:\n",
    "\n",
    "1. **Tutorial 2: Basic LLM Completions** - Learn different ways to interact with LLMs\n",
    "2. **Tutorial 3: Prompt Templates** - Create reusable, dynamic prompts\n",
    "3. **Tutorial 4: Building Conversations** - Use the PromptBuilder for complex interactions\n",
    "4. **Tutorial 5: Session Management** - Manage conversation state\n",
    "\n",
    "### Quick Example: What's Possible with AILib"
   ]
  },
  {
   "cell_type": "code",
   "execution_count": null,
   "metadata": {},
   "outputs": [],
   "source": [
    "# A taste of what's to come...\n",
    "from ailib.prompts import PromptTemplate\n",
    "\n",
    "# Create a reusable prompt template\n",
    "template = PromptTemplate(\n",
    "    \"You are a {role}. Answer this question: {question}\",\n",
    "    role=\"helpful AI assistant\"\n",
    ")\n",
    "\n",
    "# Use the template\n",
    "prompt = template.format(question=\"What makes Python great for beginners?\")\n",
    "response = client.complete(prompt)\n",
    "print(response)"
   ]
  },
  {
   "cell_type": "markdown",
   "metadata": {},
   "source": [
    "## Summary\n",
    "\n",
    "In this tutorial, you:\n",
    "- ✅ Installed AILib and its dependencies\n",
    "- ✅ Set up API keys for LLM providers\n",
    "- ✅ Created your first LLM client\n",
    "- ✅ Made your first API call\n",
    "- ✅ Learned about configuration options\n",
    "- ✅ Tested your setup\n",
    "\n",
    "You're now ready to start building AI agents with AILib! 🚀"
   ]
  }
 ],
 "metadata": {
  "kernelspec": {
   "display_name": "Python 3",
   "language": "python",
   "name": "python3"
  },
  "language_info": {
   "codemirror_mode": {
    "name": "ipython",
    "version": 3
   },
   "file_extension": ".py",
   "mimetype": "text/x-python",
   "name": "python",
   "nbconvert_exporter": "python",
   "pygments_lexer": "ipython3",
   "version": "3.11.0"
  }
 },
 "nbformat": 4,
 "nbformat_minor": 4
}
