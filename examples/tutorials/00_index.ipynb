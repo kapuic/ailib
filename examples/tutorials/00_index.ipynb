{
 "cells": [
  {
   "cell_type": "markdown",
   "metadata": {},
   "source": "# AILib Tutorial Index\n\nWelcome to the AILib tutorial series! These notebooks will guide you through building AI agent workflows from the basics to advanced real-world applications.\n\n## 📚 Tutorial Overview\n\nThe tutorials are organized in a progressive learning path. Start with Tutorial 1 if you're new to AILib, or jump to any section that interests you.\n\n### Getting Started\n\n1. **[Setup and Installation](01_setup_and_installation.ipynb)**\n   - Installing AILib and dependencies\n   - Setting up API keys\n   - First API calls\n   - Troubleshooting common issues\n\n2. **[Basic LLM Completions](02_basic_llm_completions.ipynb)**\n   - Simple text completions\n   - Chat conversations\n   - Streaming responses\n   - Model parameters and options\n\n### Core Features\n\n3. **[Prompt Templates](03_prompt_templates.ipynb)**\n   - Creating reusable templates\n   - Variables and defaults\n   - Template composition\n   - Best practices\n\n4. **[Prompt Builder](04_prompt_builder.ipynb)**\n   - Building conversations programmatically\n   - Managing message history\n   - Advanced prompt construction\n   - Conversation patterns\n\n5. **[Session Management](05_session_management.ipynb)**\n   - Maintaining conversation state\n   - Session persistence\n   - Multi-user sessions\n   - Analytics and tracking\n\n### Advanced Features\n\n6. **[Chains: Sequential Operations](06_chains.ipynb)**\n   - Creating operation pipelines\n   - Data transformation\n   - Error handling\n   - Chain composition\n\n7. **[Tools and Decorators](07_tools_and_decorators.ipynb)**\n   - Creating custom tools\n   - Tool registration\n   - Parameter validation\n   - Tool organization\n\n8. **[Agents: Autonomous Problem Solving](08_agents.ipynb)**\n   - Understanding the ReAct pattern\n   - Building intelligent agents\n   - Multi-agent systems\n   - Debugging agents\n\n### New Features\n\n11. **[Simplified API - NEW!](11_simplified_api.ipynb)** ⭐\n    - Factory functions for easy setup\n    - Vercel AI SDK-style simplicity\n    - Migration from old API\n    - Progressive disclosure philosophy\n\n12. **[Safety and Moderation - NEW!](12_safety_and_moderation.ipynb)** 🛡️\n    - Content filtering and moderation\n    - Rate limiting\n    - Custom safety rules\n    - OpenAI moderation integration\n\n13. **[Tracing and Debugging - NEW!](13_tracing_and_debugging.ipynb)** 🔍\n    - Automatic tracing\n    - Performance analysis\n    - Error tracking\n    - Trace visualization\n\n### Production Ready\n\n9. **[Advanced Features](09_advanced_features.ipynb)**\n   - Async operations\n   - Custom LLM clients\n   - Performance optimization\n   - Integration patterns\n\n10. **[Real-World Examples](10_real_world_examples.ipynb)**\n    - Document Intelligence System\n    - AI Tutoring System\n    - Research Assistant\n    - Content Generation Pipeline\n\n## 🎯 Learning Path Recommendations\n\n### For Beginners\nStart with tutorials 1-5 in order. These cover the fundamentals you'll need for everything else.\n\n### For Developers New to AILib\n**Start with Tutorial 11** - The new simplified API makes everything easier!\n\n### For Production Use\nFocus on tutorials 11-13 for the latest features, then explore 6-10 for advanced patterns.\n\n## 💡 Tips for Learning\n\n1. **Run the code**: Each tutorial has executable examples. Run them and experiment!\n2. **Modify examples**: Change parameters and see what happens\n3. **Build something**: After each tutorial, try building a small project\n4. **Check the API docs**: Refer to the AILib documentation for detailed API information\n\n## 🚀 Quick Start\n\nWant to see AILib in action right away? Here's a minimal example with the new API:"
  },
  {
   "cell_type": "code",
   "execution_count": null,
   "metadata": {},
   "outputs": [],
   "source": "# Quick example with the NEW simplified API!\nfrom ailib import create_agent, tool\n\n# Create a simple tool\n@tool\ndef calculate(expression: str) -> float:\n    \"\"\"Evaluate a mathematical expression.\"\"\"\n    return eval(expression)\n\n# Create an agent in one line!\nagent = create_agent(\"assistant\", tools=[calculate])\n\n# Ask the agent to solve a problem\nresult = agent.run(\"What is 25 * 4 + 10?\")\nprint(result)"
  },
  {
   "cell_type": "markdown",
   "metadata": {},
   "source": [
    "## 📖 Additional Resources\n",
    "\n",
    "- **GitHub Repository**: [AILib on GitHub](https://github.com/yourusername/ailib)\n",
    "- **API Documentation**: See the `docs/` directory\n",
    "- **Examples**: Check out the `examples/` directory for more code samples\n",
    "- **Community**: Join our Discord/Slack for help and discussions\n",
    "\n",
    "## 🤝 Contributing\n",
    "\n",
    "Found an issue or have a suggestion? We'd love to hear from you!\n",
    "- Open an issue on GitHub\n",
    "- Submit a pull request\n",
    "- Share your projects built with AILib\n",
    "\n",
    "---\n",
    "\n",
    "Ready to start? Head to [Tutorial 1: Setup and Installation](01_setup_and_installation.ipynb) to begin your AILib journey!\n",
    "\n",
    "Happy learning! 🎉"
   ]
  }
 ],
 "metadata": {
  "kernelspec": {
   "display_name": "Python 3",
   "language": "python",
   "name": "python3"
  },
  "language_info": {
   "codemirror_mode": {
    "name": "ipython",
    "version": 3
   },
   "file_extension": ".py",
   "mimetype": "text/x-python",
   "name": "python",
   "nbconvert_exporter": "python",
   "pygments_lexer": "ipython3",
   "version": "3.11.0"
  }
 },
 "nbformat": 4,
 "nbformat_minor": 4
}
